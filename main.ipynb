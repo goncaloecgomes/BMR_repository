{
 "cells": [
  {
   "cell_type": "markdown",
   "metadata": {},
   "source": [
    "# Basics of Mobile Robotics - Main Notebook\n",
    "\n",
    "Catarina Pires #SIPHER, Dimitri Hollosi #SIPHER, Gonçalo Gomes #SIPHER, Richard Gao #SIPHER"
   ]
  },
  {
   "cell_type": "code",
   "execution_count": null,
   "metadata": {},
   "outputs": [],
   "source": [
    "# Import libraries\n",
    "import numpy as np\n",
    "import Tracking as TR\n",
    "from tdmclient import ClientAsync\n",
    "# Import tdmclient Notebook environment:\n",
    "# import tdmclient.notebook\n",
    "# await tdmclient.notebook.start()\n",
    "# tdmclient.notebook.stop()"
   ]
  },
  {
   "cell_type": "code",
   "execution_count": null,
   "metadata": {},
   "outputs": [],
   "source": [
    "client = ClientAsync()\n",
    "node = client.aw(client.wait_for_node())"
   ]
  },
  {
   "cell_type": "markdown",
   "metadata": {},
   "source": [
    "# Thymio Parametres"
   ]
  },
  {
   "cell_type": "code",
   "execution_count": null,
   "metadata": {},
   "outputs": [],
   "source": [
    "r = 2 # radius of the wheel (cm)\n",
    "L = 9.5 # distance from wheel to wheel (cm)\n",
    "v_max = 20 # cm/s\n",
    "cruising = 150 \n",
    "motor_speed_max = 500\n",
    "omega_to_motor = (motor_speed_max*r)/v_max"
   ]
  },
  {
   "cell_type": "markdown",
   "metadata": {},
   "source": [
    "# Controller Parametres"
   ]
  },
  {
   "cell_type": "code",
   "execution_count": null,
   "metadata": {},
   "outputs": [],
   "source": [
    "Kp = 10   # Proporcional gain\n",
    "Ki = 0.1  # Integral gain\n",
    "Kd = 1    # Derivative gain\n",
    "error_sum = 0\n",
    "previous_error = 0"
   ]
  },
  {
   "cell_type": "markdown",
   "metadata": {},
   "source": [
    "# Kalman Filter Parametres"
   ]
  },
  {
   "cell_type": "code",
   "execution_count": null,
   "metadata": {},
   "outputs": [],
   "source": [
    "ts = 0.1  # time step\n",
    "A = np.array([[1, ts, 0, 0, 0, 0],  # state transition matrix\n",
    "              [0, 1, 0, 0, 0, 0],\n",
    "              [0, 0, 1, ts, 0, 0],\n",
    "              [0, 0, 0, 1, 0, 0],\n",
    "              [0, 0, 0, 0, 1, ts],\n",
    "              [0, 0, 0, 0, 0, 1]])\n",
    "\n",
    "P0 = TR.Tracking.covariance(20, 5, 20, 5, 20, 5)  # state covariance matrix\n",
    "\n",
    "Q = TR.Tracking.covariance(20, 5, 20, 5, 20, 5)  # process noise covariance matrix\n",
    "\n",
    "R = TR.Tracking.covariance(25, 6, 25, 6, 25, 6)  # measurement covariance matrix"
   ]
  },
  {
   "cell_type": "code",
   "execution_count": null,
   "metadata": {},
   "outputs": [],
   "source": [
    "#---------------------------------------------------------------------------\n",
    "#                                 Computer vision Part\n",
    "#---------------------------------------------------------------------------\n",
    "\n",
    "\n",
    "# Inicial states\n",
    "X0 = np.array([[source_x],  # x0\n",
    "                    [0],    # x_dot0\n",
    "              [source_y],   # y0\n",
    "                    [0],    # y_dot0\n",
    "                [phi_0],    # phi\n",
    "                    [0]])   # phi_dot"
   ]
  },
  {
   "cell_type": "code",
   "execution_count": null,
   "metadata": {},
   "outputs": [],
   "source": [
    "# Define local_nav object with class attributes\n",
    "tracking = TR.Tracking(client, node, client, node, cruising, ts, Kp, Ki, Kd, error_sum, previous_error, r, L, omega_to_motor, path, R, Q, A, X0, P0)\n"
   ]
  },
  {
   "cell_type": "code",
   "execution_count": null,
   "metadata": {},
   "outputs": [],
   "source": []
  },
  {
   "cell_type": "code",
   "execution_count": null,
   "metadata": {},
   "outputs": [],
   "source": [
    "#----------------------------------------------------\n",
    "# Computer Vision part and getting the shortest path\n",
    "#---------------------------------------------------\n",
    "# while (...)\n",
    "#        u: desired velocity u=[u1, u2] from the planner\n",
    "#        phi: current angle of the thymio\n",
    "\n",
    "phi_d = np.artcan((y_goal-y_source)/(x_goal-x_source))\n",
    "if phi_d <= 0.1:  \n",
    "    v = 0 # we define a constant velocity for the thymio until it reaches the goal and just control teh orientation\n",
    "else:\n",
    "    v = v_cruising\n",
    "#                                                      phi from kalman\n",
    "vr, vl, new_error_sum, new_previous_error = PIDcontroller(phi_d, phi, Kp, Ki, Kd, error_sum, previous_error, R, L, v)\n",
    "error_sum = new_error_sum\n",
    "previous_error = new_previous_error\n",
    "\n",
    "motor_left = vl*omega_to_motor\n",
    "motor_right = vr*omega_to_motor\n",
    "\n",
    "# Saturation\n",
    "if motor_left > 500:\n",
    "    motor_left = 500\n",
    "\n",
    "elif motor_right > 500:\n",
    "    motor_right = 500\n",
    "\n",
    "elif motor_right < -500:\n",
    "    motor_right = -500\n",
    "\n",
    "elif motor_left < -500:\n",
    "    motor_left = -500\n",
    "\n",
    "motor_left_target = motor_left\n",
    "motor_right_target = motor_right\n",
    "\n",
    "\n",
    "# Update states through sensor data ////////////////////////\n",
    "# -> get motor_left_speed and motor_right_speed from thymio\n",
    "vr_thymio = motor_right_speed/omega_to_motor\n",
    "vl_thymio = motor_left_speed/omega_to_motor\n",
    "\n",
    "phidot_obs[i+1] = (R/L)*(vr_thymio-vl_thymio)\n",
    "xdot_obs = (R/2)*(vr_thymio + vl_thymio)*np.cos(phi_obs[i+1])\n",
    "ydot_obs = (R/2)*(vr_thymio + vl_thymio)*np.sin(phi_obs[i+1])\n",
    "\n",
    "# if camera available:\n",
    "#    -> get x, y\n",
    "# else:\n",
    "phi_obs[i+1] = np.arctan(ydot_obs/xdot_obs)\n",
    "x_obs[i+1] = x_obs[i] + xdot_obs*time_step\n",
    "y_obs[i+1] = y_obs[i] + ydot_obs*time_step\n",
    "\n",
    "X_est, P_est = kl.kalman_filter(X_est, P_est, Q, R, x_obs[i+1], xdot_obs[i+1], y_obs[i+1], ydot_obs[i+1], phi_obs[i+1], phidot_obs[i+1])\n"
   ]
  }
 ],
 "metadata": {
  "kernelspec": {
   "display_name": "Python 3",
   "language": "python",
   "name": "python3"
  },
  "language_info": {
   "codemirror_mode": {
    "name": "ipython",
    "version": 3
   },
   "file_extension": ".py",
   "mimetype": "text/x-python",
   "name": "python",
   "nbconvert_exporter": "python",
   "pygments_lexer": "ipython3",
   "version": "3.7.7"
  }
 },
 "nbformat": 4,
 "nbformat_minor": 2
}
