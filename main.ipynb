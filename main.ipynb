{
 "cells": [
  {
   "cell_type": "markdown",
   "metadata": {},
   "source": [
    "# Basics of Mobile Robotics - Main Notebook\n"
   ]
  },
  {
   "cell_type": "code",
   "execution_count": null,
   "metadata": {},
   "outputs": [],
   "source": [
    "# Import libraries\n",
    "import numpy as np\n",
    "import cv2 as cv\n",
    "from tdmclient import ClientAsync\n",
    "from Local_Nav import Local_Nav as LN\n",
    "from Global_Nav import Global_Nav as GN\n",
    "# import RepeatedTimer"
   ]
  },
  {
   "cell_type": "markdown",
   "metadata": {},
   "source": [
    "# Thymio Parametres"
   ]
  },
  {
   "cell_type": "code",
   "execution_count": null,
   "metadata": {},
   "outputs": [],
   "source": [
    "r = 2 # radius of the wheel (cm)\n",
    "L = 9.5 # distance from wheel to wheel (cm)\n",
    "v_max = 20 # cm/s\n",
    "cruising = 150 \n",
    "motor_speed_max = 500\n",
    "omega_to_motor = (motor_speed_max*r)/v_max\n",
    "pixel_to_cm = 1/6"
   ]
  },
  {
   "cell_type": "markdown",
   "metadata": {},
   "source": [
    "# Controller Parametres"
   ]
  },
  {
   "cell_type": "code",
   "execution_count": null,
   "metadata": {},
   "outputs": [],
   "source": [
    "Kp = 10   # Proporcional gain\n",
    "Ki = 0.1  # Integral gain\n",
    "Kd = 1    # Derivative gain\n",
    "error_sum = 0       # Integral error\n",
    "previous_error = 0  # Derivative error"
   ]
  },
  {
   "cell_type": "markdown",
   "metadata": {},
   "source": [
    "# Kalman Filter Parametres"
   ]
  },
  {
   "cell_type": "code",
   "execution_count": null,
   "metadata": {},
   "outputs": [],
   "source": [
    "ts = 0.1  # time step\n",
    "A = np.array([[1, ts, 0, 0, 0, 0],  # state transition matrix\n",
    "              [0, 1, 0, 0, 0, 0],\n",
    "              [0, 0, 1, ts, 0, 0],\n",
    "              [0, 0, 0, 1, 0, 0],\n",
    "              [0, 0, 0, 0, 1, ts],\n",
    "              [0, 0, 0, 0, 0, 1]])\n",
    "\n",
    "P0 = GN.covariance(20, 5, 20, 5, 20, 5)  # state covariance matrix\n",
    "\n",
    "Q = GN.covariance(0.01, 0.1, 0.01, 0.1, 0.001, 0.01)  # process noise covariance matrix\n",
    "\n",
    "R = GN.covariance(1, 0.5, 1, 0.5, 0.1, 0.01)  # measurement covariance matrix"
   ]
  },
  {
   "cell_type": "code",
   "execution_count": null,
   "metadata": {},
   "outputs": [],
   "source": [
    "client = ClientAsync()\n",
    "node = client.aw(client.wait_for_node())\n",
    "client.aw(node.lock_node())\n",
    "\n",
    "# Define global_nav object with class attributes\n",
    "global_nav = GN(client, node, cruising, ts, Kp, Ki, Kd, error_sum, previous_error, r, L, omega_to_motor, R, Q, A, P0)\n"
   ]
  },
  {
   "cell_type": "code",
   "execution_count": null,
   "metadata": {},
   "outputs": [],
   "source": [
    "#---------------------------------------------------------------------------\n",
    "#                                 Find shortest Path\n",
    "#---------------------------------------------------------------------------\n",
    "\n",
    "\n",
    "# Inicial states\n",
    "X = np.array([      [0],    # x_dot0\n",
    "        [thymio_pose[0]],    # x0\n",
    "                     [0],    # y_dot0\n",
    "        [thymio_pose[1]],    # y0\n",
    "                     [0],    # phi_dot0\n",
    "        [thymio_pose[2]]])   # phi0 \n",
    "\n",
    "path_cm = path*pixel_to_cm\n",
    "vid = cv.VideoCapture(1+ cv.CAP_DSHOW)  \n",
    "while(True):\n",
    "      \n",
    "    # Capture the video frame\n",
    "    # by frame\n",
    "    ret, img = vid.read()\n",
    "    next_point = 0\n",
    "    while (np.abs(X[1,0]-path_cm[-1][1]) > 1) and (np.abs(X[3,0]-path_cm[-1][0]) > 1):\n",
    "        while (np.abs(X[3,0]-path_cm[next_point][1]) > 1) and (np.abs(X[1,0]-path_cm[next_point][0]) > 1):\n",
    "            node = client.aw(client.wait_for_node())\n",
    "            # Calculate desired angle\n",
    "            phi_d = np.arctan((path[next_point][1]-X[3,0])/(path[next_point].x-X[1,0]))\n",
    "            # Control action to make the Thymio follow the reference\n",
    "            vr, vl = GN.PIDcontroller(phi_d, X[5,0])\n",
    "            motor_left = vl*omega_to_motor\n",
    "            motor_right = vr*omega_to_motor            \n",
    "            # Saturation\n",
    "            if motor_left > 500:\n",
    "                motor_left = 500\n",
    "            elif motor_right > 500:\n",
    "                motor_right = 500\n",
    "            elif motor_right < -500:\n",
    "                motor_right = -500\n",
    "            elif motor_left < -500:\n",
    "                motor_left = -500            \n",
    "            # Activate Obstacle avoidance if necessary\n",
    "            # Define local_nav object with class attributes\n",
    "            local_nav = LN(client, node, motor_left, motor_right)\n",
    "            flag = local_nav.analyse_data()\n",
    "            if flag == 1:\n",
    "                task = local_nav.obstacle_avoidance() #trigger task depending on if flag detected\n",
    "            else:\n",
    "                adjust_speed = GN.motors(motor_left, motor_right)\n",
    "                node.send_set_variables(adjust_speed)\n",
    "                node.flush()\n",
    "            # Update states\n",
    "            motor_sensor = GN.get_sensor_data()\n",
    "            speed_sensor = motor_sensor/GN.omega_to_motor      # cm/s\n",
    "            thymio_xy_pix,thymio_pose,_ = GN.find_thymio(img, pixel_to_cm)\n",
    "            if thymio_pose != 0: # if the camera can find the thymio\n",
    "                X[1,0] = thymio_pose[0]                                          # x\n",
    "                X[3,0] = thymio_pose[1]                                          # y\n",
    "                X[5,0] = thymio_pose[2]                                          # phi\n",
    "                X[4,0] = (r/L)*(speed_sensor[1]-speed_sensor[0])                 # phi_dot\n",
    "                X[0,0] = (r/2)*(speed_sensor[0]+speed_sensor[1])*np.cos(X[5,0])  # x_dot\n",
    "                X[2,0] = (r/2)*(speed_sensor[0]+speed_sensor[1])*np.sin(X[5,0])  # y_dot\n",
    "                # Draw a point on the frame\n",
    "                img = cv.circle(img, (thymio_xy_pix[0], thymio_xy_pix[1]), radius=10, color=(0, 0, 255), thickness=-1)\n",
    "            else:\n",
    "                X[4,0] = (r/L)*(speed_sensor[1]-speed_sensor[0])                 # phi_dot\n",
    "                X[5,0] += X[4,0]*ts                                              # phi\n",
    "                X[0,0] = (r/2)*(speed_sensor[0]+speed_sensor[1])*np.cos(X[5,0])  # x_dot\n",
    "                X[2,0] = (r/2)*(speed_sensor[0]+speed_sensor[1])*np.sin(X[5,0])  # y_dot\n",
    "                X[1,0] += X[0,0]*ts                                              # x\n",
    "                X[3,0] += X[3,0]*ts                                              # y\n",
    "            X = GN.kalman_filter(X)\n",
    "            cv.imshow(\"Video\", img)\n",
    "            # the 'q' button is set as the\n",
    "            # quitting button you may use any\n",
    "            # desired button of your choice\n",
    "            if cv.waitKey(1) & 0xFF == ord('q'):\n",
    "                break\n",
    "        next_point += 1\n",
    "        cv.imshow(\"Video\", img)\n",
    "        # the 'q' button is set as the\n",
    "        # quitting button you may use any\n",
    "        # desired button of your choice\n",
    "        if cv.waitKey(1) & 0xFF == ord('q'):\n",
    "            break\n",
    "    motor_left = 0\n",
    "    motor_right = 0\n",
    "    adjust_speed = GN.motors(motor_left, motor_right)\n",
    "    node.send_set_variables(adjust_speed)\n",
    "    node.flush()\n",
    "    cv.imshow(\"Video\", img)\n",
    "    # the 'q' button is set as the\n",
    "    # quitting button you may use any\n",
    "    # desired button of your choice\n",
    "    if cv.waitKey(1) & 0xFF == ord('q'):\n",
    "        break\n",
    "\n",
    "\n",
    "\n",
    "\n",
    "\n"
   ]
  },
  {
   "cell_type": "code",
   "execution_count": 3,
   "metadata": {},
   "outputs": [
    {
     "ename": "SyntaxError",
     "evalue": "invalid syntax (<ipython-input-3-feacd1b74e29>, line 9)",
     "output_type": "error",
     "traceback": [
      "\u001b[1;36m  File \u001b[1;32m\"<ipython-input-3-feacd1b74e29>\"\u001b[1;36m, line \u001b[1;32m9\u001b[0m\n\u001b[1;33m    global_nav = GN.Global_Nav(client, node, cruising, time_step, Kp, Ki, Kd, ...error_sum, previous_error, r, L, omega_to_motor, path, R, Q, A, X0, P0)\u001b[0m\n\u001b[1;37m                                                                                         ^\u001b[0m\n\u001b[1;31mSyntaxError\u001b[0m\u001b[1;31m:\u001b[0m invalid syntax\n"
     ]
    }
   ],
   "source": [
    "# from tdmclient import ClientAsync\n",
    "# import Local_Nav as LN\n",
    "# import Global_Nav as GN\n",
    "\n",
    "# client = ClientAsync()\n",
    "# node = client.aw(client.wait_for_node())\n",
    "\n",
    "# # Define all necessary variables for what comes after\n",
    "\n",
    "# # Define global_nav object with class attributes\n",
    "# global_nav = GN.Global_Nav(client, node, cruising, ts, Kp, Ki, Kd, ...\n",
    "#                            error_sum, previous_error, r, L, omega_to_motor, R, Q, A, X0, P0)\n",
    "\n",
    "# # Define local_nav object with class attributes\n",
    "# local_nav = LN.Local_Nav(client, node, motor_speed_left, motor_speed_right)\n"
   ]
  },
  {
   "cell_type": "code",
   "execution_count": 4,
   "metadata": {},
   "outputs": [
    {
     "ename": "SyntaxError",
     "evalue": "invalid syntax (<ipython-input-4-a2476ea36da0>, line 15)",
     "output_type": "error",
     "traceback": [
      "\u001b[1;36m  File \u001b[1;32m\"<ipython-input-4-a2476ea36da0>\"\u001b[1;36m, line \u001b[1;32m15\u001b[0m\n\u001b[1;33m    While pos_goal != |current_thymio_pos - 5| #5cm error ?\u001b[0m\n\u001b[1;37m                 ^\u001b[0m\n\u001b[1;31mSyntaxError\u001b[0m\u001b[1;31m:\u001b[0m invalid syntax\n"
     ]
    }
   ],
   "source": [
    "# #----------------------------------------------------\n",
    "# #          FINAL MAIN STRUCTURE TRYOUT\n",
    "# #---------------------------------------------------\n",
    "\n",
    "\n",
    "# # #----------------------------------------------------\n",
    "# # Computer Vision part and getting the shortest path\n",
    "# #---------------------------------------------------\n",
    "# ''' From there we should obtain a \"control sequence\" of where and when Thymio should turn. This shall later be compared to\n",
    "# the current position of the Thymio (obtained by tracking) and we want to align the directional vector with the shortest path'''\n",
    "\n",
    "# #--------------------\n",
    "# # Global Navigation\n",
    "# #--------------------\n",
    "\n",
    "# # pos_goal = ...\n",
    "# # path_vector = ... #generate_path_vector\n",
    "\n",
    "# client.aw(node.lock_node()) #allows to update thymio variables as we loop later on\n",
    "# colour_switch = local_nav.colour(3) #Make Thymio blue when in standby, because it's cool\n",
    "# node.flush()\n",
    "\n",
    "# While pos_goal != |current_thymio_pos - 5| #5cm error ?\n",
    "\n",
    "#     node = client.aw(client.wait_for_node()) # Update states and sensor values at each iteration\n",
    "#     flag = local_nav.analyse_data() # store a flag=1 if obstacle detected (red LEDS)\n",
    "#     global_nav.update_states()\n",
    "    \n",
    "#     controlled_speed = global_nav.actuation(next_point)\n",
    "#     node.send_set_variables(controlled_speed) #\n",
    "    \n",
    "#     #--------------------\n",
    "#     # Local Navigation\n",
    "#     #--------------------\n",
    " \n",
    "#     if flag == 1:\n",
    "#         task = local_nav.obstacle_avoidance() #trigger task depending on if flag detected\n",
    "#     else:\n",
    "#         pass\n",
    "    \n",
    "\n",
    "# node.flush()"
   ]
  },
  {
   "cell_type": "code",
   "execution_count": null,
   "metadata": {},
   "outputs": [],
   "source": []
  }
 ],
 "metadata": {
  "kernelspec": {
   "display_name": "Python 3",
   "language": "python",
   "name": "python3"
  },
  "language_info": {
   "codemirror_mode": {
    "name": "ipython",
    "version": 3
   },
   "file_extension": ".py",
   "mimetype": "text/x-python",
   "name": "python",
   "nbconvert_exporter": "python",
   "pygments_lexer": "ipython3",
   "version": "3.7.7"
  }
 },
 "nbformat": 4,
 "nbformat_minor": 2
}
